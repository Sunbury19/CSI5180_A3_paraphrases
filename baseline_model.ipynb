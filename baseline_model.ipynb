{
 "cells": [
  {
   "cell_type": "code",
   "execution_count": 1,
   "metadata": {},
   "outputs": [],
   "source": [
    "import pandas as pd"
   ]
  },
  {
   "cell_type": "code",
   "execution_count": 2,
   "metadata": {},
   "outputs": [
    {
     "name": "stdout",
     "output_type": "stream",
     "text": [
      " Volume in drive F is New Volume\n",
      " Volume Serial Number is 4CCA-3E1B\n",
      "\n",
      " Directory of F:\\temp\\Data\\VA!\\5180data\n",
      "\n",
      "2021-03-06  08:23 PM    <DIR>          .\n",
      "2021-03-06  08:23 PM    <DIR>          ..\n",
      "2021-03-06  06:00 PM    <DIR>          .ipynb_checkpoints\n",
      "2021-02-28  04:12 PM         2,028,105 dev.data\n",
      "2021-03-06  08:15 PM           893,031 improved_va_model1.ipynb\n",
      "2021-03-06  03:30 PM    <DIR>          saved_folder\n",
      "2021-03-06  04:10 PM    <DIR>          source_folder\n",
      "2021-03-06  01:03 PM            11,802 Temp_Bert.ipynb\n",
      "2015-01-14  07:23 PM           406,678 test.data\n",
      "2015-01-14  07:23 PM            12,327 test.label\n",
      "2021-02-28  04:54 PM         5,851,729 train.data\n",
      "2021-03-06  12:56 PM               585 VA_assignment Bert.ipynb\n",
      "2021-03-06  05:41 PM           216,097 VA_assignment1_Baseline.ipynb\n",
      "2021-03-06  08:23 PM           646,256 va_model2.ipynb\n",
      "               9 File(s)     10,066,610 bytes\n",
      "               5 Dir(s)  111,426,166,784 bytes free\n"
     ]
    }
   ],
   "source": [
    "!dir"
   ]
  },
  {
   "cell_type": "code",
   "execution_count": 3,
   "metadata": {},
   "outputs": [],
   "source": [
    "Test = pd.read_csv('test.data', header=None, sep = '\\t')\n",
    "Dev = pd.read_csv('dev.data', header=None, sep = '\\t')\n",
    "Train = pd.read_csv('train.data', header=None, sep = '\\t')"
   ]
  },
  {
   "cell_type": "code",
   "execution_count": 4,
   "metadata": {},
   "outputs": [
    {
     "name": "stdout",
     "output_type": "stream",
     "text": [
      "<class 'pandas.core.frame.DataFrame'>\n",
      "RangeIndex: 13064 entries, 0 to 13063\n",
      "Data columns (total 7 columns):\n",
      " #   Column  Non-Null Count  Dtype \n",
      "---  ------  --------------  ----- \n",
      " 0   0       13064 non-null  object\n",
      " 1   1       13063 non-null  object\n",
      " 2   2       13063 non-null  object\n",
      " 3   3       13063 non-null  object\n",
      " 4   4       13063 non-null  object\n",
      " 5   5       13063 non-null  object\n",
      " 6   6       13063 non-null  object\n",
      "dtypes: object(7)\n",
      "memory usage: 714.6+ KB\n"
     ]
    }
   ],
   "source": [
    "Train.info()"
   ]
  },
  {
   "cell_type": "code",
   "execution_count": 5,
   "metadata": {},
   "outputs": [],
   "source": [
    "Column_name = ['ID', 'Topic_name', 'S1', 'S2', 'Label', 'S1Tag', 'S2Tag']"
   ]
  },
  {
   "cell_type": "code",
   "execution_count": 6,
   "metadata": {},
   "outputs": [],
   "source": [
    "Train.columns = Column_name\n",
    "Test.columns = Column_name\n",
    "Dev.columns = Column_name"
   ]
  },
  {
   "cell_type": "code",
   "execution_count": 7,
   "metadata": {
    "scrolled": false
   },
   "outputs": [
    {
     "data": {
      "text/html": [
       "<div>\n",
       "<style scoped>\n",
       "    .dataframe tbody tr th:only-of-type {\n",
       "        vertical-align: middle;\n",
       "    }\n",
       "\n",
       "    .dataframe tbody tr th {\n",
       "        vertical-align: top;\n",
       "    }\n",
       "\n",
       "    .dataframe thead th {\n",
       "        text-align: right;\n",
       "    }\n",
       "</style>\n",
       "<table border=\"1\" class=\"dataframe\">\n",
       "  <thead>\n",
       "    <tr style=\"text-align: right;\">\n",
       "      <th></th>\n",
       "      <th>ID</th>\n",
       "      <th>Topic_name</th>\n",
       "      <th>S1</th>\n",
       "      <th>S2</th>\n",
       "      <th>Label</th>\n",
       "      <th>S1Tag</th>\n",
       "      <th>S2Tag</th>\n",
       "    </tr>\n",
       "  </thead>\n",
       "  <tbody>\n",
       "    <tr>\n",
       "      <th>13059</th>\n",
       "      <td>1891</td>\n",
       "      <td>iPhone 5</td>\n",
       "      <td>It fits the larger iPhone 5</td>\n",
       "      <td>Should I get the iPhone 5 or an Android</td>\n",
       "      <td>(0, 5)</td>\n",
       "      <td>It/O/PRP/B-NP/O fits/O/VBZ/B-VP/O the/O/DT/B-N...</td>\n",
       "      <td>Should/O/UH/O/O I/O/PRP/B-NP/O get/O/VBP/B-VP/...</td>\n",
       "    </tr>\n",
       "    <tr>\n",
       "      <th>13060</th>\n",
       "      <td>1891</td>\n",
       "      <td>iPhone 5</td>\n",
       "      <td>It fits the larger iPhone 5</td>\n",
       "      <td>Somebody bring me an iPhone 5 charger to my work</td>\n",
       "      <td>(0, 5)</td>\n",
       "      <td>It/O/PRP/B-NP/O fits/O/VBZ/B-VP/O the/O/DT/B-N...</td>\n",
       "      <td>Somebody/O/NN/B-NP/O bring/O/VB/B-VP/B-EVENT m...</td>\n",
       "    </tr>\n",
       "    <tr>\n",
       "      <th>13061</th>\n",
       "      <td>1891</td>\n",
       "      <td>iPhone 5</td>\n",
       "      <td>It fits the larger iPhone 5</td>\n",
       "      <td>Unlocked iPhone 5 300 hit me</td>\n",
       "      <td>(0, 5)</td>\n",
       "      <td>It/O/PRP/B-NP/O fits/O/VBZ/B-VP/O the/O/DT/B-N...</td>\n",
       "      <td>Unlocked/O/NNP/B-NP/O iPhone/O/NNP/I-NP/O 5/O/...</td>\n",
       "    </tr>\n",
       "    <tr>\n",
       "      <th>13062</th>\n",
       "      <td>1891</td>\n",
       "      <td>iPhone 5</td>\n",
       "      <td>It fits the larger iPhone 5</td>\n",
       "      <td>if you have an iPhone 5 guess what WE FINALLY ...</td>\n",
       "      <td>(0, 5)</td>\n",
       "      <td>It/O/PRP/B-NP/O fits/O/VBZ/B-VP/O the/O/DT/B-N...</td>\n",
       "      <td>if/O/IN/B-SBAR/O you/O/PRP/B-NP/O have/O/VBP/B...</td>\n",
       "    </tr>\n",
       "    <tr>\n",
       "      <th>13063</th>\n",
       "      <td>=</td>\n",
       "      <td>NaN</td>\n",
       "      <td>NaN</td>\n",
       "      <td>NaN</td>\n",
       "      <td>NaN</td>\n",
       "      <td>NaN</td>\n",
       "      <td>NaN</td>\n",
       "    </tr>\n",
       "  </tbody>\n",
       "</table>\n",
       "</div>"
      ],
      "text/plain": [
       "         ID Topic_name                           S1  \\\n",
       "13059  1891   iPhone 5  It fits the larger iPhone 5   \n",
       "13060  1891   iPhone 5  It fits the larger iPhone 5   \n",
       "13061  1891   iPhone 5  It fits the larger iPhone 5   \n",
       "13062  1891   iPhone 5  It fits the larger iPhone 5   \n",
       "13063     =        NaN                          NaN   \n",
       "\n",
       "                                                      S2   Label  \\\n",
       "13059            Should I get the iPhone 5 or an Android  (0, 5)   \n",
       "13060   Somebody bring me an iPhone 5 charger to my work  (0, 5)   \n",
       "13061                       Unlocked iPhone 5 300 hit me  (0, 5)   \n",
       "13062  if you have an iPhone 5 guess what WE FINALLY ...  (0, 5)   \n",
       "13063                                                NaN     NaN   \n",
       "\n",
       "                                                   S1Tag  \\\n",
       "13059  It/O/PRP/B-NP/O fits/O/VBZ/B-VP/O the/O/DT/B-N...   \n",
       "13060  It/O/PRP/B-NP/O fits/O/VBZ/B-VP/O the/O/DT/B-N...   \n",
       "13061  It/O/PRP/B-NP/O fits/O/VBZ/B-VP/O the/O/DT/B-N...   \n",
       "13062  It/O/PRP/B-NP/O fits/O/VBZ/B-VP/O the/O/DT/B-N...   \n",
       "13063                                                NaN   \n",
       "\n",
       "                                                   S2Tag  \n",
       "13059  Should/O/UH/O/O I/O/PRP/B-NP/O get/O/VBP/B-VP/...  \n",
       "13060  Somebody/O/NN/B-NP/O bring/O/VB/B-VP/B-EVENT m...  \n",
       "13061  Unlocked/O/NNP/B-NP/O iPhone/O/NNP/I-NP/O 5/O/...  \n",
       "13062  if/O/IN/B-SBAR/O you/O/PRP/B-NP/O have/O/VBP/B...  \n",
       "13063                                                NaN  "
      ]
     },
     "execution_count": 7,
     "metadata": {},
     "output_type": "execute_result"
    }
   ],
   "source": [
    "Train.tail()"
   ]
  },
  {
   "cell_type": "code",
   "execution_count": 8,
   "metadata": {},
   "outputs": [],
   "source": [
    "Train = Train.drop(Train.index[-1])"
   ]
  },
  {
   "cell_type": "code",
   "execution_count": 9,
   "metadata": {},
   "outputs": [
    {
     "data": {
      "text/html": [
       "<div>\n",
       "<style scoped>\n",
       "    .dataframe tbody tr th:only-of-type {\n",
       "        vertical-align: middle;\n",
       "    }\n",
       "\n",
       "    .dataframe tbody tr th {\n",
       "        vertical-align: top;\n",
       "    }\n",
       "\n",
       "    .dataframe thead th {\n",
       "        text-align: right;\n",
       "    }\n",
       "</style>\n",
       "<table border=\"1\" class=\"dataframe\">\n",
       "  <thead>\n",
       "    <tr style=\"text-align: right;\">\n",
       "      <th></th>\n",
       "      <th>ID</th>\n",
       "      <th>Topic_name</th>\n",
       "      <th>S1</th>\n",
       "      <th>S2</th>\n",
       "      <th>Label</th>\n",
       "      <th>S1Tag</th>\n",
       "      <th>S2Tag</th>\n",
       "    </tr>\n",
       "  </thead>\n",
       "  <tbody>\n",
       "    <tr>\n",
       "      <th>13058</th>\n",
       "      <td>1891</td>\n",
       "      <td>iPhone 5</td>\n",
       "      <td>It fits the larger iPhone 5</td>\n",
       "      <td>My brother thirsty for this iPhone 5 so ill gu...</td>\n",
       "      <td>(0, 5)</td>\n",
       "      <td>It/O/PRP/B-NP/O fits/O/VBZ/B-VP/O the/O/DT/B-N...</td>\n",
       "      <td>My/O/PRP$/B-NP/O brother/O/NN/I-NP/O thirsty/O...</td>\n",
       "    </tr>\n",
       "    <tr>\n",
       "      <th>13059</th>\n",
       "      <td>1891</td>\n",
       "      <td>iPhone 5</td>\n",
       "      <td>It fits the larger iPhone 5</td>\n",
       "      <td>Should I get the iPhone 5 or an Android</td>\n",
       "      <td>(0, 5)</td>\n",
       "      <td>It/O/PRP/B-NP/O fits/O/VBZ/B-VP/O the/O/DT/B-N...</td>\n",
       "      <td>Should/O/UH/O/O I/O/PRP/B-NP/O get/O/VBP/B-VP/...</td>\n",
       "    </tr>\n",
       "    <tr>\n",
       "      <th>13060</th>\n",
       "      <td>1891</td>\n",
       "      <td>iPhone 5</td>\n",
       "      <td>It fits the larger iPhone 5</td>\n",
       "      <td>Somebody bring me an iPhone 5 charger to my work</td>\n",
       "      <td>(0, 5)</td>\n",
       "      <td>It/O/PRP/B-NP/O fits/O/VBZ/B-VP/O the/O/DT/B-N...</td>\n",
       "      <td>Somebody/O/NN/B-NP/O bring/O/VB/B-VP/B-EVENT m...</td>\n",
       "    </tr>\n",
       "    <tr>\n",
       "      <th>13061</th>\n",
       "      <td>1891</td>\n",
       "      <td>iPhone 5</td>\n",
       "      <td>It fits the larger iPhone 5</td>\n",
       "      <td>Unlocked iPhone 5 300 hit me</td>\n",
       "      <td>(0, 5)</td>\n",
       "      <td>It/O/PRP/B-NP/O fits/O/VBZ/B-VP/O the/O/DT/B-N...</td>\n",
       "      <td>Unlocked/O/NNP/B-NP/O iPhone/O/NNP/I-NP/O 5/O/...</td>\n",
       "    </tr>\n",
       "    <tr>\n",
       "      <th>13062</th>\n",
       "      <td>1891</td>\n",
       "      <td>iPhone 5</td>\n",
       "      <td>It fits the larger iPhone 5</td>\n",
       "      <td>if you have an iPhone 5 guess what WE FINALLY ...</td>\n",
       "      <td>(0, 5)</td>\n",
       "      <td>It/O/PRP/B-NP/O fits/O/VBZ/B-VP/O the/O/DT/B-N...</td>\n",
       "      <td>if/O/IN/B-SBAR/O you/O/PRP/B-NP/O have/O/VBP/B...</td>\n",
       "    </tr>\n",
       "  </tbody>\n",
       "</table>\n",
       "</div>"
      ],
      "text/plain": [
       "         ID Topic_name                           S1  \\\n",
       "13058  1891   iPhone 5  It fits the larger iPhone 5   \n",
       "13059  1891   iPhone 5  It fits the larger iPhone 5   \n",
       "13060  1891   iPhone 5  It fits the larger iPhone 5   \n",
       "13061  1891   iPhone 5  It fits the larger iPhone 5   \n",
       "13062  1891   iPhone 5  It fits the larger iPhone 5   \n",
       "\n",
       "                                                      S2   Label  \\\n",
       "13058  My brother thirsty for this iPhone 5 so ill gu...  (0, 5)   \n",
       "13059            Should I get the iPhone 5 or an Android  (0, 5)   \n",
       "13060   Somebody bring me an iPhone 5 charger to my work  (0, 5)   \n",
       "13061                       Unlocked iPhone 5 300 hit me  (0, 5)   \n",
       "13062  if you have an iPhone 5 guess what WE FINALLY ...  (0, 5)   \n",
       "\n",
       "                                                   S1Tag  \\\n",
       "13058  It/O/PRP/B-NP/O fits/O/VBZ/B-VP/O the/O/DT/B-N...   \n",
       "13059  It/O/PRP/B-NP/O fits/O/VBZ/B-VP/O the/O/DT/B-N...   \n",
       "13060  It/O/PRP/B-NP/O fits/O/VBZ/B-VP/O the/O/DT/B-N...   \n",
       "13061  It/O/PRP/B-NP/O fits/O/VBZ/B-VP/O the/O/DT/B-N...   \n",
       "13062  It/O/PRP/B-NP/O fits/O/VBZ/B-VP/O the/O/DT/B-N...   \n",
       "\n",
       "                                                   S2Tag  \n",
       "13058  My/O/PRP$/B-NP/O brother/O/NN/I-NP/O thirsty/O...  \n",
       "13059  Should/O/UH/O/O I/O/PRP/B-NP/O get/O/VBP/B-VP/...  \n",
       "13060  Somebody/O/NN/B-NP/O bring/O/VB/B-VP/B-EVENT m...  \n",
       "13061  Unlocked/O/NNP/B-NP/O iPhone/O/NNP/I-NP/O 5/O/...  \n",
       "13062  if/O/IN/B-SBAR/O you/O/PRP/B-NP/O have/O/VBP/B...  "
      ]
     },
     "execution_count": 9,
     "metadata": {},
     "output_type": "execute_result"
    }
   ],
   "source": [
    "Train.tail()"
   ]
  },
  {
   "cell_type": "code",
   "execution_count": 10,
   "metadata": {},
   "outputs": [
    {
     "name": "stdout",
     "output_type": "stream",
     "text": [
      "<class 'pandas.core.frame.DataFrame'>\n",
      "Int64Index: 13063 entries, 0 to 13062\n",
      "Data columns (total 7 columns):\n",
      " #   Column      Non-Null Count  Dtype \n",
      "---  ------      --------------  ----- \n",
      " 0   ID          13063 non-null  object\n",
      " 1   Topic_name  13063 non-null  object\n",
      " 2   S1          13063 non-null  object\n",
      " 3   S2          13063 non-null  object\n",
      " 4   Label       13063 non-null  object\n",
      " 5   S1Tag       13063 non-null  object\n",
      " 6   S2Tag       13063 non-null  object\n",
      "dtypes: object(7)\n",
      "memory usage: 816.4+ KB\n"
     ]
    }
   ],
   "source": [
    "Train.info()"
   ]
  },
  {
   "cell_type": "code",
   "execution_count": 11,
   "metadata": {},
   "outputs": [
    {
     "data": {
      "text/html": [
       "<div>\n",
       "<style scoped>\n",
       "    .dataframe tbody tr th:only-of-type {\n",
       "        vertical-align: middle;\n",
       "    }\n",
       "\n",
       "    .dataframe tbody tr th {\n",
       "        vertical-align: top;\n",
       "    }\n",
       "\n",
       "    .dataframe thead th {\n",
       "        text-align: right;\n",
       "    }\n",
       "</style>\n",
       "<table border=\"1\" class=\"dataframe\">\n",
       "  <thead>\n",
       "    <tr style=\"text-align: right;\">\n",
       "      <th></th>\n",
       "      <th>ID</th>\n",
       "      <th>Topic_name</th>\n",
       "      <th>S1</th>\n",
       "      <th>S2</th>\n",
       "      <th>Label</th>\n",
       "      <th>S1Tag</th>\n",
       "      <th>S2Tag</th>\n",
       "    </tr>\n",
       "  </thead>\n",
       "  <tbody>\n",
       "    <tr>\n",
       "      <th>0</th>\n",
       "      <td>17</td>\n",
       "      <td>A Walk To Remember</td>\n",
       "      <td>A Walk to Remember is the definition of true love</td>\n",
       "      <td>A Walk to Remember is on and Im in town and Im...</td>\n",
       "      <td>(1, 4)</td>\n",
       "      <td>A/O/DT/B-NP/O Walk/O/NN/I-NP/O to/O/TO/B-VP/O ...</td>\n",
       "      <td>A/O/DT/B-NP/O Walk/O/NN/I-NP/O to/O/TO/B-VP/O ...</td>\n",
       "    </tr>\n",
       "    <tr>\n",
       "      <th>1</th>\n",
       "      <td>17</td>\n",
       "      <td>A Walk To Remember</td>\n",
       "      <td>A Walk to Remember is the definition of true love</td>\n",
       "      <td>A Walk to Remember is the cutest thing</td>\n",
       "      <td>(3, 2)</td>\n",
       "      <td>A/O/DT/B-NP/O Walk/O/NN/I-NP/O to/O/TO/B-VP/O ...</td>\n",
       "      <td>A/O/DT/B-NP/O Walk/O/NN/I-NP/O to/O/TO/B-VP/O ...</td>\n",
       "    </tr>\n",
       "    <tr>\n",
       "      <th>2</th>\n",
       "      <td>17</td>\n",
       "      <td>A Walk To Remember</td>\n",
       "      <td>A Walk to Remember is the definition of true love</td>\n",
       "      <td>A walk to remember is on ABC family youre welcome</td>\n",
       "      <td>(1, 4)</td>\n",
       "      <td>A/O/DT/B-NP/O Walk/O/NN/I-NP/O to/O/TO/B-VP/O ...</td>\n",
       "      <td>A/O/DT/B-NP/O walk/O/NN/I-NP/O to/O/TO/B-VP/O ...</td>\n",
       "    </tr>\n",
       "    <tr>\n",
       "      <th>3</th>\n",
       "      <td>17</td>\n",
       "      <td>A Walk To Remember</td>\n",
       "      <td>A Walk to Remember is the definition of true love</td>\n",
       "      <td>A walk to remember is so amazing and inspiring</td>\n",
       "      <td>(3, 2)</td>\n",
       "      <td>A/O/DT/B-NP/O Walk/O/NN/I-NP/O to/O/TO/B-VP/O ...</td>\n",
       "      <td>A/O/DT/B-NP/O walk/O/NN/I-NP/O to/O/TO/B-VP/O ...</td>\n",
       "    </tr>\n",
       "    <tr>\n",
       "      <th>4</th>\n",
       "      <td>17</td>\n",
       "      <td>A Walk To Remember</td>\n",
       "      <td>A Walk to Remember is the definition of true love</td>\n",
       "      <td>BUT GUYS ITS ON MY FAVE PART OF A WALK TO REME...</td>\n",
       "      <td>(1, 4)</td>\n",
       "      <td>A/O/DT/B-NP/O Walk/O/NN/I-NP/O to/O/TO/B-VP/O ...</td>\n",
       "      <td>BUT/O/CC/O/O GUYS/O/VBP/B-VP/B-EVENT ITS/O/PRP...</td>\n",
       "    </tr>\n",
       "  </tbody>\n",
       "</table>\n",
       "</div>"
      ],
      "text/plain": [
       "   ID          Topic_name                                                 S1  \\\n",
       "0  17  A Walk To Remember  A Walk to Remember is the definition of true love   \n",
       "1  17  A Walk To Remember  A Walk to Remember is the definition of true love   \n",
       "2  17  A Walk To Remember  A Walk to Remember is the definition of true love   \n",
       "3  17  A Walk To Remember  A Walk to Remember is the definition of true love   \n",
       "4  17  A Walk To Remember  A Walk to Remember is the definition of true love   \n",
       "\n",
       "                                                  S2   Label  \\\n",
       "0  A Walk to Remember is on and Im in town and Im...  (1, 4)   \n",
       "1             A Walk to Remember is the cutest thing  (3, 2)   \n",
       "2  A walk to remember is on ABC family youre welcome  (1, 4)   \n",
       "3     A walk to remember is so amazing and inspiring  (3, 2)   \n",
       "4  BUT GUYS ITS ON MY FAVE PART OF A WALK TO REME...  (1, 4)   \n",
       "\n",
       "                                               S1Tag  \\\n",
       "0  A/O/DT/B-NP/O Walk/O/NN/I-NP/O to/O/TO/B-VP/O ...   \n",
       "1  A/O/DT/B-NP/O Walk/O/NN/I-NP/O to/O/TO/B-VP/O ...   \n",
       "2  A/O/DT/B-NP/O Walk/O/NN/I-NP/O to/O/TO/B-VP/O ...   \n",
       "3  A/O/DT/B-NP/O Walk/O/NN/I-NP/O to/O/TO/B-VP/O ...   \n",
       "4  A/O/DT/B-NP/O Walk/O/NN/I-NP/O to/O/TO/B-VP/O ...   \n",
       "\n",
       "                                               S2Tag  \n",
       "0  A/O/DT/B-NP/O Walk/O/NN/I-NP/O to/O/TO/B-VP/O ...  \n",
       "1  A/O/DT/B-NP/O Walk/O/NN/I-NP/O to/O/TO/B-VP/O ...  \n",
       "2  A/O/DT/B-NP/O walk/O/NN/I-NP/O to/O/TO/B-VP/O ...  \n",
       "3  A/O/DT/B-NP/O walk/O/NN/I-NP/O to/O/TO/B-VP/O ...  \n",
       "4  BUT/O/CC/O/O GUYS/O/VBP/B-VP/B-EVENT ITS/O/PRP...  "
      ]
     },
     "execution_count": 11,
     "metadata": {},
     "output_type": "execute_result"
    }
   ],
   "source": [
    "Dev.head()"
   ]
  },
  {
   "cell_type": "code",
   "execution_count": 12,
   "metadata": {},
   "outputs": [
    {
     "data": {
      "text/html": [
       "<div>\n",
       "<style scoped>\n",
       "    .dataframe tbody tr th:only-of-type {\n",
       "        vertical-align: middle;\n",
       "    }\n",
       "\n",
       "    .dataframe tbody tr th {\n",
       "        vertical-align: top;\n",
       "    }\n",
       "\n",
       "    .dataframe thead th {\n",
       "        text-align: right;\n",
       "    }\n",
       "</style>\n",
       "<table border=\"1\" class=\"dataframe\">\n",
       "  <thead>\n",
       "    <tr style=\"text-align: right;\">\n",
       "      <th></th>\n",
       "      <th>ID</th>\n",
       "      <th>Topic_name</th>\n",
       "      <th>S1</th>\n",
       "      <th>S2</th>\n",
       "      <th>Label</th>\n",
       "      <th>S1Tag</th>\n",
       "      <th>S2Tag</th>\n",
       "    </tr>\n",
       "  </thead>\n",
       "  <tbody>\n",
       "    <tr>\n",
       "      <th>4722</th>\n",
       "      <td>1902</td>\n",
       "      <td>iTunes</td>\n",
       "      <td>My first podcast drops on iTunes</td>\n",
       "      <td>No wonder I spend so much on iTunes</td>\n",
       "      <td>(0, 5)</td>\n",
       "      <td>My/O/PRP$/B-NP/O first/O/JJ/I-NP/O podcast/O/N...</td>\n",
       "      <td>No/O/DT/B-NP/O wonder/O/NN/I-NP/O I/O/PRP/B-NP...</td>\n",
       "    </tr>\n",
       "    <tr>\n",
       "      <th>4723</th>\n",
       "      <td>1902</td>\n",
       "      <td>iTunes</td>\n",
       "      <td>My first podcast drops on iTunes</td>\n",
       "      <td>Our Dead and Gone EP is now on iTunes</td>\n",
       "      <td>(1, 4)</td>\n",
       "      <td>My/O/PRP$/B-NP/O first/O/JJ/I-NP/O podcast/O/N...</td>\n",
       "      <td>Our/O/PRP/B-NP/O Dead/O/JJ/I-NP/O and/O/CC/I-N...</td>\n",
       "    </tr>\n",
       "    <tr>\n",
       "      <th>4724</th>\n",
       "      <td>1902</td>\n",
       "      <td>iTunes</td>\n",
       "      <td>My first podcast drops on iTunes</td>\n",
       "      <td>amslingshots is 7 on the iTunes charts</td>\n",
       "      <td>(0, 5)</td>\n",
       "      <td>My/O/PRP$/B-NP/O first/O/JJ/I-NP/O podcast/O/N...</td>\n",
       "      <td>amslingshots/O/NNP/B-NP/O is/O/VBZ/B-VP/O 7/O/...</td>\n",
       "    </tr>\n",
       "    <tr>\n",
       "      <th>4725</th>\n",
       "      <td>1902</td>\n",
       "      <td>iTunes</td>\n",
       "      <td>My first podcast drops on iTunes</td>\n",
       "      <td>iTunes deleted my voice memos</td>\n",
       "      <td>(0, 5)</td>\n",
       "      <td>My/O/PRP$/B-NP/O first/O/JJ/I-NP/O podcast/O/N...</td>\n",
       "      <td>iTunes/B-company/NNP/B-NP/O deleted/O/VBD/B-VP...</td>\n",
       "    </tr>\n",
       "    <tr>\n",
       "      <th>4726</th>\n",
       "      <td>1902</td>\n",
       "      <td>iTunes</td>\n",
       "      <td>My first podcast drops on iTunes</td>\n",
       "      <td>the new cd from RRBChoir is now available on i...</td>\n",
       "      <td>(0, 5)</td>\n",
       "      <td>My/O/PRP$/B-NP/O first/O/JJ/I-NP/O podcast/O/N...</td>\n",
       "      <td>the/O/DT/B-NP/O new/O/JJ/I-NP/O cd/O/NN/I-NP/O...</td>\n",
       "    </tr>\n",
       "  </tbody>\n",
       "</table>\n",
       "</div>"
      ],
      "text/plain": [
       "        ID Topic_name                                S1  \\\n",
       "4722  1902     iTunes  My first podcast drops on iTunes   \n",
       "4723  1902     iTunes  My first podcast drops on iTunes   \n",
       "4724  1902     iTunes  My first podcast drops on iTunes   \n",
       "4725  1902     iTunes  My first podcast drops on iTunes   \n",
       "4726  1902     iTunes  My first podcast drops on iTunes   \n",
       "\n",
       "                                                     S2   Label  \\\n",
       "4722                No wonder I spend so much on iTunes  (0, 5)   \n",
       "4723              Our Dead and Gone EP is now on iTunes  (1, 4)   \n",
       "4724             amslingshots is 7 on the iTunes charts  (0, 5)   \n",
       "4725                      iTunes deleted my voice memos  (0, 5)   \n",
       "4726  the new cd from RRBChoir is now available on i...  (0, 5)   \n",
       "\n",
       "                                                  S1Tag  \\\n",
       "4722  My/O/PRP$/B-NP/O first/O/JJ/I-NP/O podcast/O/N...   \n",
       "4723  My/O/PRP$/B-NP/O first/O/JJ/I-NP/O podcast/O/N...   \n",
       "4724  My/O/PRP$/B-NP/O first/O/JJ/I-NP/O podcast/O/N...   \n",
       "4725  My/O/PRP$/B-NP/O first/O/JJ/I-NP/O podcast/O/N...   \n",
       "4726  My/O/PRP$/B-NP/O first/O/JJ/I-NP/O podcast/O/N...   \n",
       "\n",
       "                                                  S2Tag  \n",
       "4722  No/O/DT/B-NP/O wonder/O/NN/I-NP/O I/O/PRP/B-NP...  \n",
       "4723  Our/O/PRP/B-NP/O Dead/O/JJ/I-NP/O and/O/CC/I-N...  \n",
       "4724  amslingshots/O/NNP/B-NP/O is/O/VBZ/B-VP/O 7/O/...  \n",
       "4725  iTunes/B-company/NNP/B-NP/O deleted/O/VBD/B-VP...  \n",
       "4726  the/O/DT/B-NP/O new/O/JJ/I-NP/O cd/O/NN/I-NP/O...  "
      ]
     },
     "execution_count": 12,
     "metadata": {},
     "output_type": "execute_result"
    }
   ],
   "source": [
    "Dev.tail()"
   ]
  },
  {
   "cell_type": "code",
   "execution_count": 13,
   "metadata": {},
   "outputs": [
    {
     "data": {
      "text/html": [
       "<div>\n",
       "<style scoped>\n",
       "    .dataframe tbody tr th:only-of-type {\n",
       "        vertical-align: middle;\n",
       "    }\n",
       "\n",
       "    .dataframe tbody tr th {\n",
       "        vertical-align: top;\n",
       "    }\n",
       "\n",
       "    .dataframe thead th {\n",
       "        text-align: right;\n",
       "    }\n",
       "</style>\n",
       "<table border=\"1\" class=\"dataframe\">\n",
       "  <thead>\n",
       "    <tr style=\"text-align: right;\">\n",
       "      <th></th>\n",
       "      <th>ID</th>\n",
       "      <th>Topic_name</th>\n",
       "      <th>S1</th>\n",
       "      <th>S2</th>\n",
       "      <th>Label</th>\n",
       "      <th>S1Tag</th>\n",
       "      <th>S2Tag</th>\n",
       "    </tr>\n",
       "  </thead>\n",
       "  <tbody>\n",
       "    <tr>\n",
       "      <th>0</th>\n",
       "      <td>51</td>\n",
       "      <td>8 Mile</td>\n",
       "      <td>All the home alones watching 8 mile</td>\n",
       "      <td>8 mile is on thats my movie</td>\n",
       "      <td>3</td>\n",
       "      <td>All/O/DT/B-NP/O the/O/DT/I-NP/O home/O/NN/I-NP...</td>\n",
       "      <td>8/O/NN/B-NP/O mile/O/NN/I-NP/O is/O/VBZ/B-VP/O...</td>\n",
       "    </tr>\n",
       "    <tr>\n",
       "      <th>1</th>\n",
       "      <td>51</td>\n",
       "      <td>8 Mile</td>\n",
       "      <td>All the home alones watching 8 mile</td>\n",
       "      <td>The last rap battle in 8 Mile nevr gets old ahah</td>\n",
       "      <td>2</td>\n",
       "      <td>All/O/DT/B-NP/O the/O/DT/I-NP/O home/O/NN/I-NP...</td>\n",
       "      <td>The/O/DT/B-NP/O last/O/JJ/I-NP/O rap/O/NN/I-NP...</td>\n",
       "    </tr>\n",
       "    <tr>\n",
       "      <th>2</th>\n",
       "      <td>51</td>\n",
       "      <td>8 Mile</td>\n",
       "      <td>All the home alones watching 8 mile</td>\n",
       "      <td>The rap battle at the end of 8 mile gets me so...</td>\n",
       "      <td>2</td>\n",
       "      <td>All/O/DT/B-NP/O the/O/DT/I-NP/O home/O/NN/I-NP...</td>\n",
       "      <td>The/O/DT/B-NP/O rap/O/NN/I-NP/O battle/O/NN/I-...</td>\n",
       "    </tr>\n",
       "    <tr>\n",
       "      <th>3</th>\n",
       "      <td>51</td>\n",
       "      <td>8 Mile</td>\n",
       "      <td>The Ending to 8 Mile is my fav part of the who...</td>\n",
       "      <td>Rabbit on 8 mile out of place but determined t...</td>\n",
       "      <td>1</td>\n",
       "      <td>The/O/DT/B-NP/O Ending/O/VBG/I-NP/B-EVENT to/O...</td>\n",
       "      <td>Rabbit/O/NNP/B-NP/O on/O/IN/B-PP/O 8/O/CD/B-NP...</td>\n",
       "    </tr>\n",
       "    <tr>\n",
       "      <th>4</th>\n",
       "      <td>51</td>\n",
       "      <td>8 Mile</td>\n",
       "      <td>The Ending to 8 Mile is my fav part of the who...</td>\n",
       "      <td>See 8 Mile is always on but it s the tv versio...</td>\n",
       "      <td>1</td>\n",
       "      <td>The/O/DT/B-NP/O Ending/O/VBG/I-NP/B-EVENT to/O...</td>\n",
       "      <td>See/O/VB/B-VP/O 8/O/CD/B-NP/O Mile/O/NNP/I-NP/...</td>\n",
       "    </tr>\n",
       "  </tbody>\n",
       "</table>\n",
       "</div>"
      ],
      "text/plain": [
       "   ID Topic_name                                                 S1  \\\n",
       "0  51     8 Mile                All the home alones watching 8 mile   \n",
       "1  51     8 Mile                All the home alones watching 8 mile   \n",
       "2  51     8 Mile                All the home alones watching 8 mile   \n",
       "3  51     8 Mile  The Ending to 8 Mile is my fav part of the who...   \n",
       "4  51     8 Mile  The Ending to 8 Mile is my fav part of the who...   \n",
       "\n",
       "                                                  S2  Label  \\\n",
       "0                        8 mile is on thats my movie      3   \n",
       "1   The last rap battle in 8 Mile nevr gets old ahah      2   \n",
       "2  The rap battle at the end of 8 mile gets me so...      2   \n",
       "3  Rabbit on 8 mile out of place but determined t...      1   \n",
       "4  See 8 Mile is always on but it s the tv versio...      1   \n",
       "\n",
       "                                               S1Tag  \\\n",
       "0  All/O/DT/B-NP/O the/O/DT/I-NP/O home/O/NN/I-NP...   \n",
       "1  All/O/DT/B-NP/O the/O/DT/I-NP/O home/O/NN/I-NP...   \n",
       "2  All/O/DT/B-NP/O the/O/DT/I-NP/O home/O/NN/I-NP...   \n",
       "3  The/O/DT/B-NP/O Ending/O/VBG/I-NP/B-EVENT to/O...   \n",
       "4  The/O/DT/B-NP/O Ending/O/VBG/I-NP/B-EVENT to/O...   \n",
       "\n",
       "                                               S2Tag  \n",
       "0  8/O/NN/B-NP/O mile/O/NN/I-NP/O is/O/VBZ/B-VP/O...  \n",
       "1  The/O/DT/B-NP/O last/O/JJ/I-NP/O rap/O/NN/I-NP...  \n",
       "2  The/O/DT/B-NP/O rap/O/NN/I-NP/O battle/O/NN/I-...  \n",
       "3  Rabbit/O/NNP/B-NP/O on/O/IN/B-PP/O 8/O/CD/B-NP...  \n",
       "4  See/O/VB/B-VP/O 8/O/CD/B-NP/O Mile/O/NNP/I-NP/...  "
      ]
     },
     "execution_count": 13,
     "metadata": {},
     "output_type": "execute_result"
    }
   ],
   "source": [
    "Test.head()"
   ]
  },
  {
   "cell_type": "code",
   "execution_count": 14,
   "metadata": {},
   "outputs": [
    {
     "data": {
      "text/html": [
       "<div>\n",
       "<style scoped>\n",
       "    .dataframe tbody tr th:only-of-type {\n",
       "        vertical-align: middle;\n",
       "    }\n",
       "\n",
       "    .dataframe tbody tr th {\n",
       "        vertical-align: top;\n",
       "    }\n",
       "\n",
       "    .dataframe thead th {\n",
       "        text-align: right;\n",
       "    }\n",
       "</style>\n",
       "<table border=\"1\" class=\"dataframe\">\n",
       "  <thead>\n",
       "    <tr style=\"text-align: right;\">\n",
       "      <th></th>\n",
       "      <th>ID</th>\n",
       "      <th>Topic_name</th>\n",
       "      <th>S1</th>\n",
       "      <th>S2</th>\n",
       "      <th>Label</th>\n",
       "      <th>S1Tag</th>\n",
       "      <th>S2Tag</th>\n",
       "    </tr>\n",
       "  </thead>\n",
       "  <tbody>\n",
       "    <tr>\n",
       "      <th>967</th>\n",
       "      <td>5273</td>\n",
       "      <td>Z-Bo</td>\n",
       "      <td>Ball dont lie ZBo</td>\n",
       "      <td>If Zbo didnt make that shot</td>\n",
       "      <td>2</td>\n",
       "      <td>Ball/O/NN/B-NP/O dont/O/MD/B-VP/O lie/O/VB/I-V...</td>\n",
       "      <td>If/O/IN/B-SBAR/O Zbo/O/NNP/B-NP/O didnt/O/MD/B...</td>\n",
       "    </tr>\n",
       "    <tr>\n",
       "      <th>968</th>\n",
       "      <td>5273</td>\n",
       "      <td>Z-Bo</td>\n",
       "      <td>The Spurs own ZBo</td>\n",
       "      <td>ZBo is a fucking scrub</td>\n",
       "      <td>1</td>\n",
       "      <td>The/B-sportsteam/DT/B-NP/O Spurs/I-sportsteam/...</td>\n",
       "      <td>ZBo/B-person/NNP/B-NP/O is/O/VBZ/B-VP/O a/O/DT...</td>\n",
       "    </tr>\n",
       "    <tr>\n",
       "      <th>969</th>\n",
       "      <td>5273</td>\n",
       "      <td>Z-Bo</td>\n",
       "      <td>The Spurs own ZBo</td>\n",
       "      <td>ZBo hit these free throws bruh</td>\n",
       "      <td>1</td>\n",
       "      <td>The/B-sportsteam/DT/B-NP/O Spurs/I-sportsteam/...</td>\n",
       "      <td>ZBo/O/MD/B-VP/O hit/O/VB/I-VP/B-EVENT these/O/...</td>\n",
       "    </tr>\n",
       "    <tr>\n",
       "      <th>970</th>\n",
       "      <td>5273</td>\n",
       "      <td>Z-Bo</td>\n",
       "      <td>The Spurs own ZBo</td>\n",
       "      <td>I told you feed Zbo</td>\n",
       "      <td>1</td>\n",
       "      <td>The/B-sportsteam/DT/B-NP/O Spurs/I-sportsteam/...</td>\n",
       "      <td>I/O/PRP/B-NP/O told/O/VBD/B-VP/B-EVENT you/O/P...</td>\n",
       "    </tr>\n",
       "    <tr>\n",
       "      <th>971</th>\n",
       "      <td>5273</td>\n",
       "      <td>Z-Bo</td>\n",
       "      <td>The Spurs own ZBo</td>\n",
       "      <td>Memphis is still my team and ZBo is still my dude</td>\n",
       "      <td>1</td>\n",
       "      <td>The/B-sportsteam/DT/B-NP/O Spurs/I-sportsteam/...</td>\n",
       "      <td>Memphis/B-geo-loc/NNP/B-NP/O is/O/VBZ/B-VP/O s...</td>\n",
       "    </tr>\n",
       "  </tbody>\n",
       "</table>\n",
       "</div>"
      ],
      "text/plain": [
       "       ID Topic_name                 S1  \\\n",
       "967  5273       Z-Bo  Ball dont lie ZBo   \n",
       "968  5273       Z-Bo  The Spurs own ZBo   \n",
       "969  5273       Z-Bo  The Spurs own ZBo   \n",
       "970  5273       Z-Bo  The Spurs own ZBo   \n",
       "971  5273       Z-Bo  The Spurs own ZBo   \n",
       "\n",
       "                                                    S2  Label  \\\n",
       "967                        If Zbo didnt make that shot      2   \n",
       "968                             ZBo is a fucking scrub      1   \n",
       "969                     ZBo hit these free throws bruh      1   \n",
       "970                                I told you feed Zbo      1   \n",
       "971  Memphis is still my team and ZBo is still my dude      1   \n",
       "\n",
       "                                                 S1Tag  \\\n",
       "967  Ball/O/NN/B-NP/O dont/O/MD/B-VP/O lie/O/VB/I-V...   \n",
       "968  The/B-sportsteam/DT/B-NP/O Spurs/I-sportsteam/...   \n",
       "969  The/B-sportsteam/DT/B-NP/O Spurs/I-sportsteam/...   \n",
       "970  The/B-sportsteam/DT/B-NP/O Spurs/I-sportsteam/...   \n",
       "971  The/B-sportsteam/DT/B-NP/O Spurs/I-sportsteam/...   \n",
       "\n",
       "                                                 S2Tag  \n",
       "967  If/O/IN/B-SBAR/O Zbo/O/NNP/B-NP/O didnt/O/MD/B...  \n",
       "968  ZBo/B-person/NNP/B-NP/O is/O/VBZ/B-VP/O a/O/DT...  \n",
       "969  ZBo/O/MD/B-VP/O hit/O/VB/I-VP/B-EVENT these/O/...  \n",
       "970  I/O/PRP/B-NP/O told/O/VBD/B-VP/B-EVENT you/O/P...  \n",
       "971  Memphis/B-geo-loc/NNP/B-NP/O is/O/VBZ/B-VP/O s...  "
      ]
     },
     "execution_count": 14,
     "metadata": {},
     "output_type": "execute_result"
    }
   ],
   "source": [
    "Test.tail()"
   ]
  },
  {
   "cell_type": "code",
   "execution_count": 15,
   "metadata": {},
   "outputs": [
    {
     "data": {
      "text/plain": [
       "3"
      ]
     },
     "execution_count": 15,
     "metadata": {},
     "output_type": "execute_result"
    }
   ],
   "source": [
    "Test['Label'][0]"
   ]
  },
  {
   "cell_type": "code",
   "execution_count": 16,
   "metadata": {},
   "outputs": [],
   "source": [
    "from tqdm import tqdm\n",
    "def Define_Lable(df, lable_name):\n",
    "    final_label = []\n",
    "    dicard_line = []\n",
    "    for i in tqdm(range(len(df))):\n",
    "        if len(str(df[lable_name][i])) != 1:\n",
    "            score1 = df[lable_name][i][1]\n",
    "            score2 = df[lable_name][i][4]\n",
    "\n",
    "            if int(score1) > 2:\n",
    "                final_label.append(1)\n",
    "            elif int(score1) == 2:\n",
    "                dicard_line.append(i)\n",
    "            else:\n",
    "                final_label.append(0)\n",
    "        else:\n",
    "            score = int(df[lable_name][i])\n",
    "            if score > 3:\n",
    "                final_label.append(1)\n",
    "            elif score == 3:\n",
    "                dicard_line.append(i)\n",
    "            else:\n",
    "                final_label.append(0)\n",
    "            \n",
    "    final_df = df.drop(df.index[dicard_line])\n",
    "    final_df[lable_name] = final_label\n",
    "    return final_df"
   ]
  },
  {
   "cell_type": "code",
   "execution_count": 17,
   "metadata": {},
   "outputs": [
    {
     "name": "stderr",
     "output_type": "stream",
     "text": [
      "100%|█████████████████████████████████████████████████████████████████████████| 13063/13063 [00:00<00:00, 55974.22it/s]\n",
      "100%|███████████████████████████████████████████████████████████████████████████| 4727/4727 [00:00<00:00, 64050.17it/s]\n",
      "100%|█████████████████████████████████████████████████████████████████████████████| 972/972 [00:00<00:00, 88604.35it/s]\n"
     ]
    }
   ],
   "source": [
    "Train_final = Define_Lable(Train, 'Label')\n",
    "Dev_final = Define_Lable(Dev, 'Label')\n",
    "Test_final = Define_Lable(Test, 'Label')"
   ]
  },
  {
   "cell_type": "code",
   "execution_count": 18,
   "metadata": {},
   "outputs": [],
   "source": [
    "# data preprocessing class\n",
    "import re\n",
    "from tqdm import tqdm\n",
    "import emoji\n",
    "\n",
    "class Word_Preprocessing():\n",
    "    def eliminate_url(self,df,target):\n",
    "        print('Start eliminate url: : )')\n",
    "        df_temp = df\n",
    "        target_column_name = target\n",
    "        text = df_temp[target_column_name]\n",
    "        for i in tqdm(text):\n",
    "            urls = re.findall(r'(https?:\\/\\/(?:www\\.|(?!www))[a-zA-Z0-9][a-zA-Z0-9-]+[a-zA-Z0-9]\\.[^\\s]{2,}|www\\.[a-zA-Z0-9][a-zA-Z0-9-]+[a-zA-Z0-9]\\.[^\\s]{2,}|https?:\\/\\/(?:www\\.|(?!www))[a-zA-Z0-9]+\\.[^\\s]{2,}|www\\.[a-zA-Z0-9]+\\.[^\\s]{2,})', i)\n",
    "            for i in urls:\n",
    "                df_temp[target_column_name] = df_temp[target_column_name].apply(lambda x: x.replace(i, \"\"))\n",
    "        return df_temp\n",
    "    \n",
    "    def eliminate_username(self,df,target):\n",
    "        print('Start eliminate username: : )')\n",
    "        df_temp = df\n",
    "        target_column_name = target\n",
    "        for i in tqdm(df_temp[target_column_name]):\n",
    "            user_name = re.findall(r'@\\w*', i)\n",
    "            for i in user_name:\n",
    "                df_temp[target_column_name] = df_temp[target_column_name].apply(lambda x: x.replace(i, \"\"))\n",
    "        return df_temp\n",
    "     \n",
    "    def eliminate_hashtag(self, df, target):\n",
    "        df_temp = df\n",
    "        target_column_name = target\n",
    "        for i in tqdm(df_temp[target_column_name]):\n",
    "            user_name = re.findall(r'#\\w*', i)\n",
    "            for i in user_name:\n",
    "                df_temp[target_column_name] = df_temp[target_column_name].apply(lambda x: x.replace(i, \"\"))\n",
    "        return df_temp\n",
    "    \n",
    "    def convert_abbreviation(self, df, target):\n",
    "        df_temp = df\n",
    "        target_column_name = target\n",
    "        am = \"'m\"\n",
    "        are = \"'re\"\n",
    "        have = \"'ve\"\n",
    "        not_ = \"n't\"\n",
    "        df_temp[target_column_name] = df_temp[target_column_name].apply(lambda x: x.replace(am, \" am\"))\n",
    "        df_temp[target_column_name] = df_temp[target_column_name].apply(lambda x: x.replace(are, \"  are\"))\n",
    "        df_temp[target_column_name] = df_temp[target_column_name].apply(lambda x: x.replace(have, \" have\"))\n",
    "        df_temp[target_column_name] = df_temp[target_column_name].apply(lambda x: x.replace(not_, \" not\"))\n",
    "        return df_temp\n",
    "        \n",
    "    def lowercase_all(self, df, target):\n",
    "        df_tmp = df\n",
    "        tmp_str = [str.lower(i) for i in df[target]] \n",
    "        df_tmp[target] = tmp_str\n",
    "        return df_tmp \n",
    "        \n",
    "        \n",
    "    def eliminate_symbol(self,df,target):\n",
    "        print('Start eliminate symbol: : )')\n",
    "        df_temp = df\n",
    "        target_column_name = target\n",
    "        symbol_list = [',',\"'\",'!','@','$','%','^','&','*','(',')','-','+','?','>','<','=','.',':',';','  ','  ','   ','    ','      ','      ','  ']\n",
    "        for i in tqdm(symbol_list):\n",
    "            df_temp[target_column_name] = df_temp[target_column_name].apply(lambda x: x.replace(i, ' '))\n",
    "        return df_temp\n",
    "    \n",
    "    def process_all(self, df,target):\n",
    "        df_temp = df\n",
    "        target_column_name = target\n",
    "        df_fresh = self.convert_abbreviation(df_temp,target_column_name)\n",
    "        df_remove_url = self.eliminate_url(df_fresh,target_column_name)\n",
    "        df_eliminate_hashtag = self.eliminate_hashtag(df_remove_url, target_column_name)\n",
    "        df_remove_username = self.eliminate_username(df_eliminate_hashtag, target_column_name)\n",
    "        df_remove_symbol = self.eliminate_symbol(df_remove_username, target_column_name)\n",
    "        df_final = self.lowercase_all(df_remove_symbol, target_column_name)\n",
    "        print(\"finished!!\")\n",
    "        return df_final"
   ]
  },
  {
   "cell_type": "code",
   "execution_count": 19,
   "metadata": {},
   "outputs": [],
   "source": [
    "word_preprocesser = Word_Preprocessing()"
   ]
  },
  {
   "cell_type": "code",
   "execution_count": 20,
   "metadata": {},
   "outputs": [
    {
     "name": "stderr",
     "output_type": "stream",
     "text": [
      "100%|████████████████████████████████████████████████████████████████████████| 11530/11530 [00:00<00:00, 642278.04it/s]\n",
      "100%|████████████████████████████████████████████████████████████████████████| 11530/11530 [00:00<00:00, 963449.05it/s]\n",
      "100%|████████████████████████████████████████████████████████████████████████| 11530/11530 [00:00<00:00, 608482.02it/s]\n",
      "100%|█████████████████████████████████████████████████████████████████████████████████| 27/27 [00:00<00:00, 429.71it/s]\n",
      "100%|████████████████████████████████████████████████████████████████████████| 11530/11530 [00:00<00:00, 608466.70it/s]\n",
      "100%|████████████████████████████████████████████████████████████████████████| 11530/11530 [00:00<00:00, 724195.47it/s]\n",
      "  0%|                                                                                        | 0/11530 [00:00<?, ?it/s]"
     ]
    },
    {
     "name": "stdout",
     "output_type": "stream",
     "text": [
      "Start eliminate url: : )\n",
      "Start eliminate username: : )\n",
      "Start eliminate symbol: : )\n",
      "finished!!\n",
      "Start eliminate url: : )\n",
      "Start eliminate username: : )\n"
     ]
    },
    {
     "name": "stderr",
     "output_type": "stream",
     "text": [
      "100%|████████████████████████████████████████████████████████████████████████| 11530/11530 [00:00<00:00, 642295.10it/s]\n",
      "100%|█████████████████████████████████████████████████████████████████████████████████| 27/27 [00:00<00:00, 392.35it/s]\n",
      "100%|██████████████████████████████████████████████████████████████████████████| 4142/4142 [00:00<00:00, 519133.64it/s]\n",
      "100%|██████████████████████████████████████████████████████████████████████████| 4142/4142 [00:00<00:00, 830837.26it/s]\n",
      "100%|██████████████████████████████████████████████████████████████████████████| 4142/4142 [00:00<00:00, 830598.93it/s]\n",
      "100%|█████████████████████████████████████████████████████████████████████████████████| 27/27 [00:00<00:00, 943.11it/s]\n",
      "100%|██████████████████████████████████████████████████████████████████████████| 4142/4142 [00:00<00:00, 692198.87it/s]\n",
      "100%|██████████████████████████████████████████████████████████████████████████| 4142/4142 [00:00<00:00, 830598.93it/s]\n",
      "100%|█████████████████████████████████████████████████████████████████████████| 4142/4142 [00:00<00:00, 1038050.14it/s]\n",
      "  0%|                                                                                           | 0/27 [00:00<?, ?it/s]"
     ]
    },
    {
     "name": "stdout",
     "output_type": "stream",
     "text": [
      "Start eliminate symbol: : )\n",
      "finished!!\n",
      "Start eliminate url: : )\n",
      "Start eliminate username: : )\n",
      "Start eliminate symbol: : )\n",
      "finished!!\n",
      "Start eliminate url: : )\n",
      "Start eliminate username: : )\n",
      "Start eliminate symbol: : )\n"
     ]
    },
    {
     "name": "stderr",
     "output_type": "stream",
     "text": [
      "100%|█████████████████████████████████████████████████████████████████████████████████| 27/27 [00:00<00:00, 933.50it/s]\n",
      "100%|████████████████████████████████████████████████████████████████████████████| 838/838 [00:00<00:00, 840063.76it/s]\n",
      "100%|████████████████████████████████████████████████████████████████████████████| 838/838 [00:00<00:00, 840264.58it/s]\n",
      "100%|████████████████████████████████████████████████████████████████████████████| 838/838 [00:00<00:00, 840264.58it/s]\n",
      "100%|████████████████████████████████████████████████████████████████████████████████| 27/27 [00:00<00:00, 2461.13it/s]\n",
      "100%|████████████████████████████████████████████████████████████████████████████| 838/838 [00:00<00:00, 840465.51it/s]\n",
      "100%|████████████████████████████████████████████████████████████████████████████| 838/838 [00:00<00:00, 840264.58it/s]\n",
      "100%|████████████████████████████████████████████████████████████████████████████| 838/838 [00:00<00:00, 840063.76it/s]\n",
      "100%|████████████████████████████████████████████████████████████████████████████████| 27/27 [00:00<00:00, 2256.13it/s]"
     ]
    },
    {
     "name": "stdout",
     "output_type": "stream",
     "text": [
      "finished!!\n",
      "Start eliminate url: : )\n",
      "Start eliminate username: : )\n",
      "Start eliminate symbol: : )\n",
      "finished!!\n",
      "Start eliminate url: : )\n",
      "Start eliminate username: : )\n",
      "Start eliminate symbol: : )\n",
      "finished!!\n"
     ]
    },
    {
     "name": "stderr",
     "output_type": "stream",
     "text": [
      "\n"
     ]
    }
   ],
   "source": [
    "tmp_Train = word_preprocesser.process_all(Train_final, 'S1')\n",
    "Train_cleaned  = word_preprocesser.process_all(tmp_Train, 'S2')\n",
    "tmp_Dev = word_preprocesser.process_all(Dev_final, 'S1')\n",
    "Dev_cleaned = word_preprocesser.process_all(tmp_Dev, 'S2')\n",
    "tmp_Test = word_preprocesser.process_all(Test_final, 'S1')\n",
    "Test_cleaned = word_preprocesser.process_all(tmp_Test, 'S2')"
   ]
  },
  {
   "cell_type": "code",
   "execution_count": 21,
   "metadata": {},
   "outputs": [
    {
     "data": {
      "text/html": [
       "<div>\n",
       "<style scoped>\n",
       "    .dataframe tbody tr th:only-of-type {\n",
       "        vertical-align: middle;\n",
       "    }\n",
       "\n",
       "    .dataframe tbody tr th {\n",
       "        vertical-align: top;\n",
       "    }\n",
       "\n",
       "    .dataframe thead th {\n",
       "        text-align: right;\n",
       "    }\n",
       "</style>\n",
       "<table border=\"1\" class=\"dataframe\">\n",
       "  <thead>\n",
       "    <tr style=\"text-align: right;\">\n",
       "      <th></th>\n",
       "      <th>ID</th>\n",
       "      <th>Topic_name</th>\n",
       "      <th>S1</th>\n",
       "      <th>S2</th>\n",
       "      <th>Label</th>\n",
       "      <th>S1Tag</th>\n",
       "      <th>S2Tag</th>\n",
       "    </tr>\n",
       "  </thead>\n",
       "  <tbody>\n",
       "    <tr>\n",
       "      <th>0</th>\n",
       "      <td>4</td>\n",
       "      <td>1st QB</td>\n",
       "      <td>ej manuel the 1st qb to go in this draft</td>\n",
       "      <td>but my bro from the 757 ej manuel is the 1st q...</td>\n",
       "      <td>1</td>\n",
       "      <td>EJ/B-person/NNP/B-NP/O Manuel/I-person/NNP/B-V...</td>\n",
       "      <td>But/O/CC/O/O my/O/PRP$/B-NP/O bro/O/NN/I-NP/O ...</td>\n",
       "    </tr>\n",
       "    <tr>\n",
       "      <th>1</th>\n",
       "      <td>4</td>\n",
       "      <td>1st QB</td>\n",
       "      <td>ej manuel the 1st qb to go in this draft</td>\n",
       "      <td>can believe ej manuel went as the 1st qb in th...</td>\n",
       "      <td>1</td>\n",
       "      <td>EJ/B-person/NNP/B-NP/O Manuel/I-person/NNP/B-V...</td>\n",
       "      <td>Can/O/MD/B-VP/O believe/O/VB/I-VP/B-EVENT EJ/B...</td>\n",
       "    </tr>\n",
       "    <tr>\n",
       "      <th>2</th>\n",
       "      <td>4</td>\n",
       "      <td>1st QB</td>\n",
       "      <td>ej manuel the 1st qb to go in this draft</td>\n",
       "      <td>ej manuel is the 1st qb what</td>\n",
       "      <td>1</td>\n",
       "      <td>EJ/B-person/NNP/B-NP/O Manuel/I-person/NNP/B-V...</td>\n",
       "      <td>EJ/B-person/NNP/B-NP/O MANUEL/I-person/NNP/I-N...</td>\n",
       "    </tr>\n",
       "    <tr>\n",
       "      <th>4</th>\n",
       "      <td>4</td>\n",
       "      <td>1st QB</td>\n",
       "      <td>ej manuel the 1st qb to go in this draft</td>\n",
       "      <td>manuel is the 1st qb to get drafted</td>\n",
       "      <td>1</td>\n",
       "      <td>EJ/B-person/NNP/B-NP/O Manuel/I-person/NNP/B-V...</td>\n",
       "      <td>Manuel/B-person/NNP/B-NP/O is/O/VBZ/B-VP/O the...</td>\n",
       "    </tr>\n",
       "    <tr>\n",
       "      <th>5</th>\n",
       "      <td>4</td>\n",
       "      <td>1st QB</td>\n",
       "      <td>ej manuel the 1st qb to go in this draft</td>\n",
       "      <td>my boy ej manuel being the 1st qb picked</td>\n",
       "      <td>1</td>\n",
       "      <td>EJ/B-person/NNP/B-NP/O Manuel/I-person/NNP/B-V...</td>\n",
       "      <td>My/O/PRP$/B-NP/O boy/O/NN/I-NP/O EJ/B-person/N...</td>\n",
       "    </tr>\n",
       "    <tr>\n",
       "      <th>...</th>\n",
       "      <td>...</td>\n",
       "      <td>...</td>\n",
       "      <td>...</td>\n",
       "      <td>...</td>\n",
       "      <td>...</td>\n",
       "      <td>...</td>\n",
       "      <td>...</td>\n",
       "    </tr>\n",
       "    <tr>\n",
       "      <th>13058</th>\n",
       "      <td>1891</td>\n",
       "      <td>iPhone 5</td>\n",
       "      <td>it fits the larger iphone 5</td>\n",
       "      <td>my brother thirsty for this iphone 5 so ill gu...</td>\n",
       "      <td>0</td>\n",
       "      <td>It/O/PRP/B-NP/O fits/O/VBZ/B-VP/O the/O/DT/B-N...</td>\n",
       "      <td>My/O/PRP$/B-NP/O brother/O/NN/I-NP/O thirsty/O...</td>\n",
       "    </tr>\n",
       "    <tr>\n",
       "      <th>13059</th>\n",
       "      <td>1891</td>\n",
       "      <td>iPhone 5</td>\n",
       "      <td>it fits the larger iphone 5</td>\n",
       "      <td>should i get the iphone 5 or an android</td>\n",
       "      <td>0</td>\n",
       "      <td>It/O/PRP/B-NP/O fits/O/VBZ/B-VP/O the/O/DT/B-N...</td>\n",
       "      <td>Should/O/UH/O/O I/O/PRP/B-NP/O get/O/VBP/B-VP/...</td>\n",
       "    </tr>\n",
       "    <tr>\n",
       "      <th>13060</th>\n",
       "      <td>1891</td>\n",
       "      <td>iPhone 5</td>\n",
       "      <td>it fits the larger iphone 5</td>\n",
       "      <td>somebody bring me an iphone 5 charger to my work</td>\n",
       "      <td>0</td>\n",
       "      <td>It/O/PRP/B-NP/O fits/O/VBZ/B-VP/O the/O/DT/B-N...</td>\n",
       "      <td>Somebody/O/NN/B-NP/O bring/O/VB/B-VP/B-EVENT m...</td>\n",
       "    </tr>\n",
       "    <tr>\n",
       "      <th>13061</th>\n",
       "      <td>1891</td>\n",
       "      <td>iPhone 5</td>\n",
       "      <td>it fits the larger iphone 5</td>\n",
       "      <td>unlocked iphone 5 300 hit me</td>\n",
       "      <td>0</td>\n",
       "      <td>It/O/PRP/B-NP/O fits/O/VBZ/B-VP/O the/O/DT/B-N...</td>\n",
       "      <td>Unlocked/O/NNP/B-NP/O iPhone/O/NNP/I-NP/O 5/O/...</td>\n",
       "    </tr>\n",
       "    <tr>\n",
       "      <th>13062</th>\n",
       "      <td>1891</td>\n",
       "      <td>iPhone 5</td>\n",
       "      <td>it fits the larger iphone 5</td>\n",
       "      <td>if you have an iphone 5 guess what we finally ...</td>\n",
       "      <td>0</td>\n",
       "      <td>It/O/PRP/B-NP/O fits/O/VBZ/B-VP/O the/O/DT/B-N...</td>\n",
       "      <td>if/O/IN/B-SBAR/O you/O/PRP/B-NP/O have/O/VBP/B...</td>\n",
       "    </tr>\n",
       "  </tbody>\n",
       "</table>\n",
       "<p>11530 rows × 7 columns</p>\n",
       "</div>"
      ],
      "text/plain": [
       "         ID Topic_name                                        S1  \\\n",
       "0         4     1st QB  ej manuel the 1st qb to go in this draft   \n",
       "1         4     1st QB  ej manuel the 1st qb to go in this draft   \n",
       "2         4     1st QB  ej manuel the 1st qb to go in this draft   \n",
       "4         4     1st QB  ej manuel the 1st qb to go in this draft   \n",
       "5         4     1st QB  ej manuel the 1st qb to go in this draft   \n",
       "...     ...        ...                                       ...   \n",
       "13058  1891   iPhone 5               it fits the larger iphone 5   \n",
       "13059  1891   iPhone 5               it fits the larger iphone 5   \n",
       "13060  1891   iPhone 5               it fits the larger iphone 5   \n",
       "13061  1891   iPhone 5               it fits the larger iphone 5   \n",
       "13062  1891   iPhone 5               it fits the larger iphone 5   \n",
       "\n",
       "                                                      S2  Label  \\\n",
       "0      but my bro from the 757 ej manuel is the 1st q...      1   \n",
       "1      can believe ej manuel went as the 1st qb in th...      1   \n",
       "2                           ej manuel is the 1st qb what      1   \n",
       "4                    manuel is the 1st qb to get drafted      1   \n",
       "5               my boy ej manuel being the 1st qb picked      1   \n",
       "...                                                  ...    ...   \n",
       "13058  my brother thirsty for this iphone 5 so ill gu...      0   \n",
       "13059            should i get the iphone 5 or an android      0   \n",
       "13060   somebody bring me an iphone 5 charger to my work      0   \n",
       "13061                       unlocked iphone 5 300 hit me      0   \n",
       "13062  if you have an iphone 5 guess what we finally ...      0   \n",
       "\n",
       "                                                   S1Tag  \\\n",
       "0      EJ/B-person/NNP/B-NP/O Manuel/I-person/NNP/B-V...   \n",
       "1      EJ/B-person/NNP/B-NP/O Manuel/I-person/NNP/B-V...   \n",
       "2      EJ/B-person/NNP/B-NP/O Manuel/I-person/NNP/B-V...   \n",
       "4      EJ/B-person/NNP/B-NP/O Manuel/I-person/NNP/B-V...   \n",
       "5      EJ/B-person/NNP/B-NP/O Manuel/I-person/NNP/B-V...   \n",
       "...                                                  ...   \n",
       "13058  It/O/PRP/B-NP/O fits/O/VBZ/B-VP/O the/O/DT/B-N...   \n",
       "13059  It/O/PRP/B-NP/O fits/O/VBZ/B-VP/O the/O/DT/B-N...   \n",
       "13060  It/O/PRP/B-NP/O fits/O/VBZ/B-VP/O the/O/DT/B-N...   \n",
       "13061  It/O/PRP/B-NP/O fits/O/VBZ/B-VP/O the/O/DT/B-N...   \n",
       "13062  It/O/PRP/B-NP/O fits/O/VBZ/B-VP/O the/O/DT/B-N...   \n",
       "\n",
       "                                                   S2Tag  \n",
       "0      But/O/CC/O/O my/O/PRP$/B-NP/O bro/O/NN/I-NP/O ...  \n",
       "1      Can/O/MD/B-VP/O believe/O/VB/I-VP/B-EVENT EJ/B...  \n",
       "2      EJ/B-person/NNP/B-NP/O MANUEL/I-person/NNP/I-N...  \n",
       "4      Manuel/B-person/NNP/B-NP/O is/O/VBZ/B-VP/O the...  \n",
       "5      My/O/PRP$/B-NP/O boy/O/NN/I-NP/O EJ/B-person/N...  \n",
       "...                                                  ...  \n",
       "13058  My/O/PRP$/B-NP/O brother/O/NN/I-NP/O thirsty/O...  \n",
       "13059  Should/O/UH/O/O I/O/PRP/B-NP/O get/O/VBP/B-VP/...  \n",
       "13060  Somebody/O/NN/B-NP/O bring/O/VB/B-VP/B-EVENT m...  \n",
       "13061  Unlocked/O/NNP/B-NP/O iPhone/O/NNP/I-NP/O 5/O/...  \n",
       "13062  if/O/IN/B-SBAR/O you/O/PRP/B-NP/O have/O/VBP/B...  \n",
       "\n",
       "[11530 rows x 7 columns]"
      ]
     },
     "execution_count": 21,
     "metadata": {},
     "output_type": "execute_result"
    }
   ],
   "source": [
    "Train_cleaned"
   ]
  },
  {
   "cell_type": "code",
   "execution_count": 22,
   "metadata": {},
   "outputs": [],
   "source": [
    "import Levenshtein"
   ]
  },
  {
   "cell_type": "code",
   "execution_count": 23,
   "metadata": {},
   "outputs": [],
   "source": [
    "Train_final = Train_cleaned.reset_index()\n",
    "Dev_final = Dev_cleaned.reset_index()\n",
    "Test_final = Test_cleaned.reset_index()"
   ]
  },
  {
   "cell_type": "markdown",
   "metadata": {},
   "source": [
    "## Cosine distance\n",
    "Cosine similarity is a measure of similarity between two non-zero vectors of an inner product space that measures the cosine of the angle between them"
   ]
  },
  {
   "cell_type": "code",
   "execution_count": 24,
   "metadata": {},
   "outputs": [],
   "source": [
    "from sklearn.feature_extraction.text import CountVectorizer\n",
    "from sklearn.metrics.pairwise import cosine_similarity\n",
    "def cosine_sim_vectors(v1, v2):\n",
    "    v1 = v1.reshape(1,-1)\n",
    "    v2 = v2.reshape(1,-1)\n",
    "    return cosine_similarity(v1, v2)[0][0]\n",
    "\n",
    "\n",
    "def calculate_Cosi(df):\n",
    "    Cos_score = []\n",
    "    for index in tqdm(range(len(df))):\n",
    "        s1 = df['S1'][index]\n",
    "        s2 = df['S2'][index]\n",
    "        s_all = [s1, s2]\n",
    "        vectorizer = CountVectorizer().fit_transform(s_all)\n",
    "        vectors = vectorizer.toarray()\n",
    "        csim = cosine_similarity(vectors)\n",
    "        Cos_score.append(cosine_sim_vectors(vectors[0], vectors[1]))\n",
    "    return Cos_score"
   ]
  },
  {
   "cell_type": "markdown",
   "metadata": {},
   "source": [
    "## Type distance\n",
    "https://towardsdatascience.com/calculating-string-similarity-in-python-276e18a7d33a"
   ]
  },
  {
   "cell_type": "code",
   "execution_count": 25,
   "metadata": {},
   "outputs": [],
   "source": [
    "def calculate_Lev(df):\n",
    "    length_all = []\n",
    "    for index in tqdm(range(len(df))):\n",
    "        s1 = df['S1'][index]\n",
    "        s2 = df['S2'][index]\n",
    "        distance = Levenshtein.distance(s1,s2)\n",
    "        length_all.append(distance)\n",
    "    return length_all"
   ]
  },
  {
   "cell_type": "code",
   "execution_count": 26,
   "metadata": {},
   "outputs": [
    {
     "name": "stderr",
     "output_type": "stream",
     "text": [
      "100%|█████████████████████████████████████████████████████████████████████████| 11530/11530 [00:00<00:00, 77590.05it/s]\n",
      "100%|███████████████████████████████████████████████████████████████████████████| 4142/4142 [00:00<00:00, 84756.56it/s]\n",
      "100%|█████████████████████████████████████████████████████████████████████████████| 838/838 [00:00<00:00, 70020.65it/s]\n"
     ]
    }
   ],
   "source": [
    "Lev_train = calculate_Lev(Train_final)\n",
    "Lev_dev = calculate_Lev(Dev_final)\n",
    "Lev_test = calculate_Lev(Test_final)"
   ]
  },
  {
   "cell_type": "code",
   "execution_count": 27,
   "metadata": {},
   "outputs": [
    {
     "name": "stderr",
     "output_type": "stream",
     "text": [
      "100%|██████████████████████████████████████████████████████████████████████████| 11530/11530 [00:07<00:00, 1643.76it/s]\n",
      "100%|████████████████████████████████████████████████████████████████████████████| 4142/4142 [00:02<00:00, 1667.90it/s]\n",
      "100%|██████████████████████████████████████████████████████████████████████████████| 838/838 [00:00<00:00, 1650.77it/s]\n"
     ]
    }
   ],
   "source": [
    "Cos_train = calculate_Cosi(Train_final)\n",
    "Cos_dev = calculate_Cosi(Dev_final)\n",
    "Cos_test = calculate_Cosi(Test_final)"
   ]
  },
  {
   "cell_type": "code",
   "execution_count": 28,
   "metadata": {},
   "outputs": [
    {
     "data": {
      "image/png": "[encoded data removed]",
      "text/plain": [
       "<Figure size 432x288 with 1 Axes>"
      ]
     },
     "metadata": {
      "needs_background": "light"
     },
     "output_type": "display_data"
    }
   ],
   "source": [
    "import matplotlib.pyplot as plt\n",
    "plt.hist(Lev_train, bins=100)\n",
    "plt.xlabel('Levenshtein distance')\n",
    "plt.title('Distance distribution')\n",
    "plt.show()"
   ]
  },
  {
   "cell_type": "code",
   "execution_count": 29,
   "metadata": {},
   "outputs": [
    {
     "data": {
      "image/png": "[encoded data removed]",
      "text/plain": [
       "<Figure size 432x288 with 1 Axes>"
      ]
     },
     "metadata": {
      "needs_background": "light"
     },
     "output_type": "display_data"
    }
   ],
   "source": [
    "plt.hist(Cos_train, bins=100)\n",
    "plt.xlabel('Cosine distance')\n",
    "plt.title('Distance distribution')\n",
    "plt.show()"
   ]
  },
  {
   "cell_type": "code",
   "execution_count": 41,
   "metadata": {},
   "outputs": [],
   "source": [
    "Train_check = {'Cos_dis':Cos_train,\n",
    "                'Lev_dis':Lev_train}\n",
    "Test_check = {'Cos_dis':Cos_test,\n",
    "                'Lev_dis':Lev_test}\n",
    "Dev_check = {'Cos_dis':Cos_dev,\n",
    "                'Lev_dis':Lev_dev}\n",
    "Train_dis = pd.DataFrame(Train_check)\n",
    "Test_dis = pd.DataFrame(Test_check)\n",
    "Dev_dis = pd.DataFrame(Dev_check)"
   ]
  },
  {
   "cell_type": "code",
   "execution_count": 31,
   "metadata": {},
   "outputs": [],
   "source": [
    "from sklearn import tree\n",
    "from sklearn.metrics import confusion_matrix,precision_recall_fscore_support,accuracy_score, precision_score,recall_score, f1_score\n",
    "def Basic_DT_By_Sample(Train_x, test_x, Train_label_x, Test_Lable_x):\n",
    "    acc_list = []\n",
    "    pre_list = []\n",
    "    rec_list = []\n",
    "    min_sam = range(1,30)\n",
    "    for i in min_sam:\n",
    "        Tree = tree.DecisionTreeClassifier(criterion='gini', min_samples_leaf=i)\n",
    "        Tree.fit(Train_x, Train_label_x)\n",
    "        Prediction = Tree.predict(test_x)\n",
    "        recall = recall_score(Test_Lable_x, Prediction)\n",
    "        precision = precision_score(Test_Lable_x, Prediction)\n",
    "        accuray = accuracy_score(Test_Lable_x, Prediction)\n",
    "        \n",
    "        acc_list.append(accuray)\n",
    "        pre_list.append(precision)\n",
    "        rec_list.append(recall)\n",
    "        confusion_matrix1 = confusion_matrix(Test_Lable_x, Prediction, labels=[0, 1])\n",
    "        print('min_sam_num:',i,\"Precision:\", precision, \"Recall:\", recall, 'Accuracy:', accuray)\n",
    "    return acc_list, pre_list, rec_list\n",
    "\n"
   ]
  },
  {
   "cell_type": "code",
   "execution_count": 32,
   "metadata": {},
   "outputs": [
    {
     "name": "stdout",
     "output_type": "stream",
     "text": [
      "min_sam_num: 1 Precision: 0.5244755244755245 Recall: 0.42857142857142855 Accuracy: 0.7995226730310262\n",
      "min_sam_num: 2 Precision: 0.5217391304347826 Recall: 0.4114285714285714 Accuracy: 0.7983293556085919\n",
      "min_sam_num: 3 Precision: 0.5486111111111112 Recall: 0.4514285714285714 Accuracy: 0.8078758949880668\n",
      "min_sam_num: 4 Precision: 0.5522388059701493 Recall: 0.4228571428571429 Accuracy: 0.8078758949880668\n",
      "min_sam_num: 5 Precision: 0.5436241610738255 Recall: 0.46285714285714286 Accuracy: 0.8066825775656324\n",
      "min_sam_num: 6 Precision: 0.5436241610738255 Recall: 0.46285714285714286 Accuracy: 0.8066825775656324\n",
      "min_sam_num: 7 Precision: 0.5490196078431373 Recall: 0.48 Accuracy: 0.8090692124105012\n",
      "min_sam_num: 8 Precision: 0.5945945945945946 Recall: 0.5028571428571429 Accuracy: 0.8245823389021479\n",
      "min_sam_num: 9 Precision: 0.5973154362416108 Recall: 0.5085714285714286 Accuracy: 0.8257756563245824\n",
      "min_sam_num: 10 Precision: 0.5960264900662252 Recall: 0.5142857142857142 Accuracy: 0.8257756563245824\n",
      "min_sam_num: 11 Precision: 0.5933333333333334 Recall: 0.5085714285714286 Accuracy: 0.8245823389021479\n",
      "min_sam_num: 12 Precision: 0.5866666666666667 Recall: 0.5028571428571429 Accuracy: 0.8221957040572793\n",
      "min_sam_num: 13 Precision: 0.6027397260273972 Recall: 0.5028571428571429 Accuracy: 0.8269689737470167\n",
      "min_sam_num: 14 Precision: 0.6 Recall: 0.5142857142857142 Accuracy: 0.8269689737470167\n",
      "min_sam_num: 15 Precision: 0.5933333333333334 Recall: 0.5085714285714286 Accuracy: 0.8245823389021479\n",
      "min_sam_num: 16 Precision: 0.5838926174496645 Recall: 0.49714285714285716 Accuracy: 0.8210023866348448\n",
      "min_sam_num: 17 Precision: 0.5862068965517241 Recall: 0.4857142857142857 Accuracy: 0.8210023866348448\n",
      "min_sam_num: 18 Precision: 0.5915492957746479 Recall: 0.48 Accuracy: 0.8221957040572793\n",
      "min_sam_num: 19 Precision: 0.60431654676259 Recall: 0.48 Accuracy: 0.8257756563245824\n",
      "min_sam_num: 20 Precision: 0.6268656716417911 Recall: 0.48 Accuracy: 0.8317422434367542\n",
      "min_sam_num: 21 Precision: 0.6296296296296297 Recall: 0.4857142857142857 Accuracy: 0.8329355608591885\n",
      "min_sam_num: 22 Precision: 0.6296296296296297 Recall: 0.4857142857142857 Accuracy: 0.8329355608591885\n",
      "min_sam_num: 23 Precision: 0.6304347826086957 Recall: 0.49714285714285716 Accuracy: 0.834128878281623\n",
      "min_sam_num: 24 Precision: 0.6304347826086957 Recall: 0.49714285714285716 Accuracy: 0.834128878281623\n",
      "min_sam_num: 25 Precision: 0.6296296296296297 Recall: 0.4857142857142857 Accuracy: 0.8329355608591885\n",
      "min_sam_num: 26 Precision: 0.625 Recall: 0.4857142857142857 Accuracy: 0.8317422434367542\n",
      "min_sam_num: 27 Precision: 0.6304347826086957 Recall: 0.49714285714285716 Accuracy: 0.834128878281623\n",
      "min_sam_num: 28 Precision: 0.635036496350365 Recall: 0.49714285714285716 Accuracy: 0.8353221957040573\n",
      "min_sam_num: 29 Precision: 0.6492537313432836 Recall: 0.49714285714285716 Accuracy: 0.8389021479713604\n"
     ]
    }
   ],
   "source": [
    "acc_list, pre_list, rec_list = Basic_DT_By_Sample(Train_dis, Test_dis, Train_final['Label'], Test_final['Label'])"
   ]
  },
  {
   "cell_type": "code",
   "execution_count": 33,
   "metadata": {},
   "outputs": [
    {
     "data": {
      "image/png": "[encoded data removed]",
      "text/plain": [
       "<Figure size 1440x720 with 1 Axes>"
      ]
     },
     "metadata": {
      "needs_background": "light"
     },
     "output_type": "display_data"
    }
   ],
   "source": [
    "plt.figure(figsize=(20,10))\n",
    "plt.grid(True)\n",
    "min_sam = range(1,30)\n",
    "plt.plot(min_sam,acc_list,label='accuracy',marker='o', linestyle='--',)\n",
    "plt.plot(min_sam,pre_list,label = 'precision',marker='o', linestyle='--',)\n",
    "plt.plot(min_sam, rec_list,label='Recall',marker='o', linestyle='--',)\n",
    "plt.xlabel('min_sample')\n",
    "plt.ylabel('Performance')\n",
    "plt.xticks(min_sam, min_sam)\n",
    "plt.legend()\n",
    "plt.show()"
   ]
  },
  {
   "cell_type": "code",
   "execution_count": 34,
   "metadata": {},
   "outputs": [
    {
     "name": "stdout",
     "output_type": "stream",
     "text": [
      "minimum sample for accuracy: 29 accuracy: 0.8389021479713604\n",
      "minimum sample for precision: 29 precision: 0.6492537313432836\n",
      "minimum sample for recall: 10 recall: 0.5142857142857142\n"
     ]
    }
   ],
   "source": [
    "print('minimum sample for accuracy:',min_sam[acc_list.index(max(acc_list))],'accuracy:',max(acc_list))\n",
    "print('minimum sample for precision:',min_sam[pre_list.index(max(pre_list))],'precision:',max(pre_list))\n",
    "print('minimum sample for recall:',min_sam[rec_list.index(max(rec_list))],'recall:',max(rec_list))"
   ]
  },
  {
   "cell_type": "code",
   "execution_count": 35,
   "metadata": {},
   "outputs": [],
   "source": [
    "def Basic_DT_By_Depth(Train_x, test_x, Train_label_x, Test_Lable_x):\n",
    "    acc_list = []\n",
    "    pre_list = []\n",
    "    rec_list = []\n",
    "    depth_list = range(1,30)\n",
    "    for i in depth_list:\n",
    "        Tree = tree.DecisionTreeClassifier(criterion='gini', min_samples_leaf=19, max_depth=i)\n",
    "        Tree.fit(Train_x, Train_label_x)\n",
    "        Prediction = Tree.predict(test_x)\n",
    "        recall = recall_score(Test_Lable_x, Prediction)\n",
    "        precision = precision_score(Test_Lable_x, Prediction)\n",
    "        accuray = accuracy_score(Test_Lable_x, Prediction)\n",
    "        acc_list.append(accuray)\n",
    "        pre_list.append(precision)\n",
    "        rec_list.append(recall)\n",
    "        confusion_matrix1 = confusion_matrix(Test_Lable_x, Prediction, labels=[0, 1])\n",
    "        print('max depth:',i,\"Precision:\", precision, \"Recall:\", recall, 'Accuracy:', accuray)\n",
    "    return acc_list, pre_list, rec_list"
   ]
  },
  {
   "cell_type": "code",
   "execution_count": 36,
   "metadata": {},
   "outputs": [
    {
     "name": "stdout",
     "output_type": "stream",
     "text": [
      "max depth: 1 Precision: 0.5775401069518716 Recall: 0.6171428571428571 Accuracy: 0.8257756563245824\n",
      "max depth: 2 Precision: 0.5775401069518716 Recall: 0.6171428571428571 Accuracy: 0.8257756563245824\n",
      "max depth: 3 Precision: 0.6744186046511628 Recall: 0.49714285714285716 Accuracy: 0.8448687350835322\n",
      "max depth: 4 Precision: 0.6470588235294118 Recall: 0.5028571428571429 Accuracy: 0.8389021479713604\n",
      "max depth: 5 Precision: 0.6717557251908397 Recall: 0.5028571428571429 Accuracy: 0.8448687350835322\n",
      "max depth: 6 Precision: 0.6666666666666666 Recall: 0.5257142857142857 Accuracy: 0.8460620525059666\n",
      "max depth: 7 Precision: 0.6503496503496503 Recall: 0.5314285714285715 Accuracy: 0.8424821002386634\n",
      "max depth: 8 Precision: 0.6567164179104478 Recall: 0.5028571428571429 Accuracy: 0.8412887828162291\n",
      "max depth: 9 Precision: 0.6285714285714286 Recall: 0.5028571428571429 Accuracy: 0.834128878281623\n",
      "max depth: 10 Precision: 0.6222222222222222 Recall: 0.48 Accuracy: 0.8305489260143198\n",
      "max depth: 11 Precision: 0.6071428571428571 Recall: 0.4857142857142857 Accuracy: 0.8269689737470167\n",
      "max depth: 12 Precision: 0.6071428571428571 Recall: 0.4857142857142857 Accuracy: 0.8269689737470167\n",
      "max depth: 13 Precision: 0.6071428571428571 Recall: 0.4857142857142857 Accuracy: 0.8269689737470167\n",
      "max depth: 14 Precision: 0.60431654676259 Recall: 0.48 Accuracy: 0.8257756563245824\n",
      "max depth: 15 Precision: 0.60431654676259 Recall: 0.48 Accuracy: 0.8257756563245824\n",
      "max depth: 16 Precision: 0.60431654676259 Recall: 0.48 Accuracy: 0.8257756563245824\n",
      "max depth: 17 Precision: 0.60431654676259 Recall: 0.48 Accuracy: 0.8257756563245824\n",
      "max depth: 18 Precision: 0.60431654676259 Recall: 0.48 Accuracy: 0.8257756563245824\n",
      "max depth: 19 Precision: 0.60431654676259 Recall: 0.48 Accuracy: 0.8257756563245824\n",
      "max depth: 20 Precision: 0.60431654676259 Recall: 0.48 Accuracy: 0.8257756563245824\n",
      "max depth: 21 Precision: 0.60431654676259 Recall: 0.48 Accuracy: 0.8257756563245824\n",
      "max depth: 22 Precision: 0.60431654676259 Recall: 0.48 Accuracy: 0.8257756563245824\n",
      "max depth: 23 Precision: 0.60431654676259 Recall: 0.48 Accuracy: 0.8257756563245824\n",
      "max depth: 24 Precision: 0.60431654676259 Recall: 0.48 Accuracy: 0.8257756563245824\n",
      "max depth: 25 Precision: 0.60431654676259 Recall: 0.48 Accuracy: 0.8257756563245824\n",
      "max depth: 26 Precision: 0.60431654676259 Recall: 0.48 Accuracy: 0.8257756563245824\n",
      "max depth: 27 Precision: 0.60431654676259 Recall: 0.48 Accuracy: 0.8257756563245824\n",
      "max depth: 28 Precision: 0.60431654676259 Recall: 0.48 Accuracy: 0.8257756563245824\n",
      "max depth: 29 Precision: 0.60431654676259 Recall: 0.48 Accuracy: 0.8257756563245824\n"
     ]
    }
   ],
   "source": [
    "acc_list1, pre_list1, rec_list1 = Basic_DT_By_Depth(Train_dis, Test_dis, Train_final['Label'], Test_final['Label'])"
   ]
  },
  {
   "cell_type": "code",
   "execution_count": 37,
   "metadata": {},
   "outputs": [
    {
     "data": {
      "image/png": "[encoded data removed]",
      "text/plain": [
       "<Figure size 1440x720 with 1 Axes>"
      ]
     },
     "metadata": {
      "needs_background": "light"
     },
     "output_type": "display_data"
    }
   ],
   "source": [
    "plt.figure(figsize=(20,10))\n",
    "plt.grid(True)\n",
    "min_sam = range(1,30)\n",
    "depth_list = range(1,30)\n",
    "plt.plot(depth_list,acc_list1,label='accuracy',marker='o', linestyle='--',)\n",
    "plt.plot(depth_list,pre_list1,label = 'precision',marker='o', linestyle='--',)\n",
    "plt.plot(depth_list, rec_list1,label='Recall',marker='o', linestyle='--',)\n",
    "plt.xlabel('max_depth')\n",
    "plt.ylabel('Performance')\n",
    "plt.xticks(min_sam, min_sam)\n",
    "plt.legend()\n",
    "plt.show()"
   ]
  },
  {
   "cell_type": "code",
   "execution_count": 38,
   "metadata": {},
   "outputs": [
    {
     "name": "stdout",
     "output_type": "stream",
     "text": [
      "minimum sample for accuracy: 6 accuracy: 0.8460620525059666\n",
      "minimum sample for precision: 3 precision: 0.6744186046511628\n",
      "minimum sample for recall: 1 recall: 0.6171428571428571\n"
     ]
    }
   ],
   "source": [
    "print('minimum sample for accuracy:',min_sam[acc_list1.index(max(acc_list1))],'accuracy:',max(acc_list1))\n",
    "print('minimum sample for precision:',min_sam[pre_list1.index(max(pre_list1))],'precision:',max(pre_list1))\n",
    "print('minimum sample for recall:',min_sam[rec_list1.index(max(rec_list1))],'recall:',max(rec_list1))"
   ]
  },
  {
   "cell_type": "code",
   "execution_count": 39,
   "metadata": {},
   "outputs": [],
   "source": [
    "def Final_DT(Train_x, test_x, Train_label_x, Test_Lable_x):\n",
    "    Tree = tree.DecisionTreeClassifier(criterion='gini', min_samples_leaf=19, max_depth=1)\n",
    "    Tree.fit(Train_x, Train_label_x)\n",
    "    Prediction = Tree.predict(test_x)\n",
    "    recall = recall_score(Test_Lable_x, Prediction)\n",
    "    precision = precision_score(Test_Lable_x, Prediction)\n",
    "    accuray = accuracy_score(Test_Lable_x, Prediction)\n",
    "    f1 = f1_score(Test_Lable_x, Prediction)\n",
    "    acc_list.append(accuray)\n",
    "    pre_list.append(precision)\n",
    "    rec_list.append(recall)\n",
    "    confusion_matrix1 = confusion_matrix(Test_Lable_x, Prediction, labels=[0, 1])\n",
    "    print(\"Precision:\", precision, \"Recall:\", recall, 'Accuracy:', accuray, 'F1 score:', f1)\n",
    "    print(\"Confusion matrix\")\n",
    "    print(confusion_matrix1)\n",
    "    return Tree"
   ]
  },
  {
   "cell_type": "code",
   "execution_count": 43,
   "metadata": {},
   "outputs": [
    {
     "name": "stdout",
     "output_type": "stream",
     "text": [
      "Precision: 0.6786757546251218 Recall: 0.4741496598639456 Accuracy: 0.7337035248672139 F1 score: 0.5582699239086905\n",
      "Confusion matrix\n",
      "[[2342  330]\n",
      " [ 773  697]]\n"
     ]
    }
   ],
   "source": [
    "Final_DT_model = Final_DT(Train_dis, Dev_dis, Train_final['Label'], Dev_final['Label'])"
   ]
  },
  {
   "cell_type": "code",
   "execution_count": 55,
   "metadata": {},
   "outputs": [],
   "source": [
    "Target = ['0','1']"
   ]
  },
  {
   "cell_type": "code",
   "execution_count": 60,
   "metadata": {},
   "outputs": [
    {
     "name": "stdout",
     "output_type": "stream",
     "text": [
      "|--- Cos_dis <= 0.41\n",
      "|   |--- weights: [6153.00, 1334.00] class: 0\n",
      "|--- Cos_dis >  0.41\n",
      "|   |--- weights: [1381.00, 2662.00] class: 1\n",
      "\n"
     ]
    }
   ],
   "source": [
    "from sklearn.tree import export_text\n",
    "r = export_text(Final_DT_model, feature_names=list(Train_dis.columns),show_weights= True)\n",
    "print(r)"
   ]
  },
  {
   "cell_type": "code",
   "execution_count": 41,
   "metadata": {},
   "outputs": [
    {
     "data": {
      "text/html": [
       "<div>\n",
       "<style scoped>\n",
       "    .dataframe tbody tr th:only-of-type {\n",
       "        vertical-align: middle;\n",
       "    }\n",
       "\n",
       "    .dataframe tbody tr th {\n",
       "        vertical-align: top;\n",
       "    }\n",
       "\n",
       "    .dataframe thead th {\n",
       "        text-align: right;\n",
       "    }\n",
       "</style>\n",
       "<table border=\"1\" class=\"dataframe\">\n",
       "  <thead>\n",
       "    <tr style=\"text-align: right;\">\n",
       "      <th></th>\n",
       "      <th>index</th>\n",
       "      <th>ID</th>\n",
       "      <th>Topic_name</th>\n",
       "      <th>S1</th>\n",
       "      <th>S2</th>\n",
       "      <th>Label</th>\n",
       "      <th>S1Tag</th>\n",
       "      <th>S2Tag</th>\n",
       "    </tr>\n",
       "  </thead>\n",
       "  <tbody>\n",
       "    <tr>\n",
       "      <th>0</th>\n",
       "      <td>1</td>\n",
       "      <td>51</td>\n",
       "      <td>8 Mile</td>\n",
       "      <td>all the home alones watching 8 mile</td>\n",
       "      <td>the last rap battle in 8 mile nevr gets old ahah</td>\n",
       "      <td>0</td>\n",
       "      <td>All/O/DT/B-NP/O the/O/DT/I-NP/O home/O/NN/I-NP...</td>\n",
       "      <td>The/O/DT/B-NP/O last/O/JJ/I-NP/O rap/O/NN/I-NP...</td>\n",
       "    </tr>\n",
       "    <tr>\n",
       "      <th>1</th>\n",
       "      <td>2</td>\n",
       "      <td>51</td>\n",
       "      <td>8 Mile</td>\n",
       "      <td>all the home alones watching 8 mile</td>\n",
       "      <td>the rap battle at the end of 8 mile gets me so...</td>\n",
       "      <td>0</td>\n",
       "      <td>All/O/DT/B-NP/O the/O/DT/I-NP/O home/O/NN/I-NP...</td>\n",
       "      <td>The/O/DT/B-NP/O rap/O/NN/I-NP/O battle/O/NN/I-...</td>\n",
       "    </tr>\n",
       "    <tr>\n",
       "      <th>2</th>\n",
       "      <td>3</td>\n",
       "      <td>51</td>\n",
       "      <td>8 Mile</td>\n",
       "      <td>the ending to 8 mile is my fav part of the who...</td>\n",
       "      <td>rabbit on 8 mile out of place but determined t...</td>\n",
       "      <td>0</td>\n",
       "      <td>The/O/DT/B-NP/O Ending/O/VBG/I-NP/B-EVENT to/O...</td>\n",
       "      <td>Rabbit/O/NNP/B-NP/O on/O/IN/B-PP/O 8/O/CD/B-NP...</td>\n",
       "    </tr>\n",
       "    <tr>\n",
       "      <th>3</th>\n",
       "      <td>4</td>\n",
       "      <td>51</td>\n",
       "      <td>8 Mile</td>\n",
       "      <td>the ending to 8 mile is my fav part of the who...</td>\n",
       "      <td>see 8 mile is always on but it s the tv versio...</td>\n",
       "      <td>0</td>\n",
       "      <td>The/O/DT/B-NP/O Ending/O/VBG/I-NP/B-EVENT to/O...</td>\n",
       "      <td>See/O/VB/B-VP/O 8/O/CD/B-NP/O Mile/O/NNP/I-NP/...</td>\n",
       "    </tr>\n",
       "    <tr>\n",
       "      <th>4</th>\n",
       "      <td>5</td>\n",
       "      <td>51</td>\n",
       "      <td>8 Mile</td>\n",
       "      <td>the ending to 8 mile is my fav part of the who...</td>\n",
       "      <td>those last 3 battles in 8 mile are the shit</td>\n",
       "      <td>1</td>\n",
       "      <td>The/O/DT/B-NP/O Ending/O/VBG/I-NP/B-EVENT to/O...</td>\n",
       "      <td>Those/O/DT/B-NP/O last/O/JJ/I-NP/O 3/O/CD/I-NP...</td>\n",
       "    </tr>\n",
       "  </tbody>\n",
       "</table>\n",
       "</div>"
      ],
      "text/plain": [
       "   index  ID Topic_name                                                 S1  \\\n",
       "0      1  51     8 Mile                all the home alones watching 8 mile   \n",
       "1      2  51     8 Mile                all the home alones watching 8 mile   \n",
       "2      3  51     8 Mile  the ending to 8 mile is my fav part of the who...   \n",
       "3      4  51     8 Mile  the ending to 8 mile is my fav part of the who...   \n",
       "4      5  51     8 Mile  the ending to 8 mile is my fav part of the who...   \n",
       "\n",
       "                                                  S2  Label  \\\n",
       "0   the last rap battle in 8 mile nevr gets old ahah      0   \n",
       "1  the rap battle at the end of 8 mile gets me so...      0   \n",
       "2  rabbit on 8 mile out of place but determined t...      0   \n",
       "3  see 8 mile is always on but it s the tv versio...      0   \n",
       "4        those last 3 battles in 8 mile are the shit      1   \n",
       "\n",
       "                                               S1Tag  \\\n",
       "0  All/O/DT/B-NP/O the/O/DT/I-NP/O home/O/NN/I-NP...   \n",
       "1  All/O/DT/B-NP/O the/O/DT/I-NP/O home/O/NN/I-NP...   \n",
       "2  The/O/DT/B-NP/O Ending/O/VBG/I-NP/B-EVENT to/O...   \n",
       "3  The/O/DT/B-NP/O Ending/O/VBG/I-NP/B-EVENT to/O...   \n",
       "4  The/O/DT/B-NP/O Ending/O/VBG/I-NP/B-EVENT to/O...   \n",
       "\n",
       "                                               S2Tag  \n",
       "0  The/O/DT/B-NP/O last/O/JJ/I-NP/O rap/O/NN/I-NP...  \n",
       "1  The/O/DT/B-NP/O rap/O/NN/I-NP/O battle/O/NN/I-...  \n",
       "2  Rabbit/O/NNP/B-NP/O on/O/IN/B-PP/O 8/O/CD/B-NP...  \n",
       "3  See/O/VB/B-VP/O 8/O/CD/B-NP/O Mile/O/NNP/I-NP/...  \n",
       "4  Those/O/DT/B-NP/O last/O/JJ/I-NP/O 3/O/CD/I-NP...  "
      ]
     },
     "execution_count": 41,
     "metadata": {},
     "output_type": "execute_result"
    }
   ],
   "source": [
    "Test_final.head()"
   ]
  },
  {
   "cell_type": "code",
   "execution_count": 42,
   "metadata": {},
   "outputs": [
    {
     "name": "stdout",
     "output_type": "stream",
     "text": [
      "The sample data set are:\n",
      "Cos/Lev Distance: (0.25819888974716115, 38) all the home alones watching 8 mile   the last rap battle in 8 mile nevr gets old ahah Lable is: 0 Prediction: 0\n",
      "Cos/Lev Distance: (0.4999999999999999, 22) ok good the end of 8 mile is on   the end of 8 mile makes me so happy Lable is: 1 Prediction: 1\n"
     ]
    }
   ],
   "source": [
    "print(\"The sample data set are:\")\n",
    "print(\"Cos/Lev Distance:\",(Test_dis['Cos_dis'][0], Test_dis['Lev_dis'][0]), Test_final['S1'][0],' ',Test_final['S2'][0], 'Lable is:',Test_final['Label'][0], \"Prediction:\", Final_DT_model.predict([list(Test_dis.iloc[0])])[0])\n",
    "print(\"Cos/Lev Distance:\",(Test_dis['Cos_dis'][20], Test_dis['Lev_dis'][20]), Test_final['S1'][20],' ',Test_final['S2'][20], 'Lable is:',Test_final['Label'][20], \"Prediction:\", Final_DT_model.predict([list(Test_dis.iloc[20])])[0])"
   ]
  },
  {
   "cell_type": "code",
   "execution_count": null,
   "metadata": {},
   "outputs": [],
   "source": []
  }
 ],
 "metadata": {
  "kernelspec": {
   "display_name": "Python 3",
   "language": "python",
   "name": "python3"
  },
  "language_info": {
   "codemirror_mode": {
    "name": "ipython",
    "version": 3
   },
   "file_extension": ".py",
   "mimetype": "text/x-python",
   "name": "python",
   "nbconvert_exporter": "python",
   "pygments_lexer": "ipython3",
   "version": "3.7.4"
  }
 },
 "nbformat": 4,
 "nbformat_minor": 4
}
